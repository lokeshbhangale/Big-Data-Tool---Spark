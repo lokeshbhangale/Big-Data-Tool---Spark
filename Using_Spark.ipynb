{
 "cells": [
  {
   "cell_type": "code",
   "execution_count": 1,
   "id": "7a165385-cbd2-4741-acf5-15a2031d5621",
   "metadata": {},
   "outputs": [],
   "source": [
    "from pyspark.sql import SparkSession "
   ]
  },
  {
   "cell_type": "code",
   "execution_count": 2,
   "id": "a40f34bf-e6b3-433a-9431-557ac0b51c28",
   "metadata": {},
   "outputs": [],
   "source": [
    "spark=SparkSession.builder.appName('Occupancy').getOrCreate()"
   ]
  },
  {
   "cell_type": "markdown",
   "id": "47dfa208-9697-49c2-b074-0cc9ad6b4af3",
   "metadata": {},
   "source": [
    "# Question 1 (occupancy_sensor_data.csv)"
   ]
  },
  {
   "cell_type": "code",
   "execution_count": 22,
   "id": "e5c22a77-9923-4f5d-9b07-9d7df5e13105",
   "metadata": {},
   "outputs": [],
   "source": [
    "df_spark = spark.read.csv('occupancy_sensor_data.csv',header=True,inferSchema=True)"
   ]
  },
  {
   "cell_type": "code",
   "execution_count": 23,
   "id": "5814ffbe-1caf-4f63-ba23-4252e9d1949f",
   "metadata": {},
   "outputs": [
    {
     "name": "stdout",
     "output_type": "stream",
     "text": [
      "+-----+-------------------+-----------+--------+-----+------+-------------------+---------+\n",
      "|index|               date|Temperature|Humidity|Light|   CO2|      HumidityRatio|Occupancy|\n",
      "+-----+-------------------+-----------+--------+-----+------+-------------------+---------+\n",
      "|    1|2015-02-04 17:51:00|      23.18|  27.272|426.0|721.25|0.00479298817650529|        1|\n",
      "|    2|2015-02-04 17:51:59|      23.15| 27.2675|429.5| 714.0|0.00478344094931065|        1|\n",
      "|    3|2015-02-04 17:53:00|      23.15|  27.245|426.0| 713.5|0.00477946352442199|        1|\n",
      "|    4|2015-02-04 17:54:00|      23.15|    27.2|426.0|708.25|0.00477150882608175|        1|\n",
      "|    5|2015-02-04 17:55:00|       23.1|    27.2|426.0| 704.5|0.00475699293331518|        1|\n",
      "+-----+-------------------+-----------+--------+-----+------+-------------------+---------+\n",
      "only showing top 5 rows\n",
      "\n"
     ]
    }
   ],
   "source": [
    "df_spark.show(5)"
   ]
  },
  {
   "cell_type": "markdown",
   "id": "def64009-6fb7-4b55-b78c-da9f3dbef1a1",
   "metadata": {},
   "source": [
    "# Que1.1 Find out average humidity of the room"
   ]
  },
  {
   "cell_type": "code",
   "execution_count": 24,
   "id": "b5db714b-4243-44be-a7c3-ce3a708ed551",
   "metadata": {},
   "outputs": [
    {
     "name": "stdout",
     "output_type": "stream",
     "text": [
      "(8143, 8)\n"
     ]
    }
   ],
   "source": [
    "print((df_spark.count(), len(df_spark.columns)))"
   ]
  },
  {
   "cell_type": "code",
   "execution_count": 25,
   "id": "776c806f-684f-449c-88d3-13b6192cbe39",
   "metadata": {},
   "outputs": [
    {
     "name": "stdout",
     "output_type": "stream",
     "text": [
      "+------------------+\n",
      "|     avg(Humidity)|\n",
      "+------------------+\n",
      "|25.731507286422527|\n",
      "+------------------+\n",
      "\n"
     ]
    }
   ],
   "source": [
    "df_spark.agg({'Humidity':'mean'}).show()"
   ]
  },
  {
   "cell_type": "markdown",
   "id": "ba5593e5-48c3-4552-bab8-d362a43acfb4",
   "metadata": {},
   "source": [
    "# Que1.2 Filter all timestamp where the temperature is greater than 20 degrees"
   ]
  },
  {
   "cell_type": "code",
   "execution_count": 26,
   "id": "cca5dddc-6029-4d95-92e2-449a9ef3a04a",
   "metadata": {},
   "outputs": [
    {
     "name": "stdout",
     "output_type": "stream",
     "text": [
      "+-------------------+\n",
      "|               date|\n",
      "+-------------------+\n",
      "|2015-02-04 17:51:00|\n",
      "|2015-02-04 17:51:59|\n",
      "|2015-02-04 17:53:00|\n",
      "|2015-02-04 17:54:00|\n",
      "|2015-02-04 17:55:00|\n",
      "|2015-02-04 17:55:59|\n",
      "|2015-02-04 17:57:00|\n",
      "|2015-02-04 17:57:59|\n",
      "|2015-02-04 17:58:59|\n",
      "|2015-02-04 18:00:00|\n",
      "|2015-02-04 18:01:00|\n",
      "|2015-02-04 18:02:00|\n",
      "|2015-02-04 18:03:00|\n",
      "|2015-02-04 18:04:00|\n",
      "|2015-02-04 18:04:59|\n",
      "|2015-02-04 18:06:00|\n",
      "|2015-02-04 18:07:00|\n",
      "|2015-02-04 18:08:00|\n",
      "|2015-02-04 18:08:59|\n",
      "|2015-02-04 18:10:00|\n",
      "+-------------------+\n",
      "only showing top 20 rows\n",
      "\n"
     ]
    }
   ],
   "source": [
    "time=df_spark.filter((df_spark['Temperature']>20)).select('date').show()"
   ]
  },
  {
   "cell_type": "markdown",
   "id": "670c38cf-0de3-4a4c-8633-dc173b223039",
   "metadata": {},
   "source": [
    "# Que1.3 What is the maximum and minimum temperature of the room with 1 occupant?"
   ]
  },
  {
   "cell_type": "code",
   "execution_count": null,
   "id": "064c5882-212c-46e8-80ca-7e8871d4a3d3",
   "metadata": {},
   "outputs": [],
   "source": []
  },
  {
   "cell_type": "code",
   "execution_count": 27,
   "id": "02ce654b-42a2-4a23-9926-38f2dab7ee78",
   "metadata": {},
   "outputs": [],
   "source": [
    "from pyspark.sql.functions import min,max "
   ]
  },
  {
   "cell_type": "code",
   "execution_count": 28,
   "id": "7351df8f-2703-4f5f-80f3-701901374ebb",
   "metadata": {},
   "outputs": [
    {
     "name": "stdout",
     "output_type": "stream",
     "text": [
      "+--------+--------+\n",
      "|Min_Temp|Max_Temp|\n",
      "+--------+--------+\n",
      "|    19.5|   23.18|\n",
      "+--------+--------+\n",
      "\n"
     ]
    }
   ],
   "source": [
    "df_spark.filter(df_spark['Occupancy']==1).agg(min('Temperature').alias('Min_Temp'),max('Temperature').alias('Max_Temp')).show()"
   ]
  },
  {
   "cell_type": "code",
   "execution_count": 35,
   "id": "6ddd1579-fa92-48cc-8cee-3372638ba115",
   "metadata": {},
   "outputs": [],
   "source": [
    "df_spark.createOrReplaceTempView('occupancy_sensor_data')"
   ]
  },
  {
   "cell_type": "code",
   "execution_count": 36,
   "id": "1de7ce06-9b3d-4c61-ba53-f170f76d4124",
   "metadata": {},
   "outputs": [
    {
     "name": "stdout",
     "output_type": "stream",
     "text": [
      "+-----+-------------------+-----------+----------------+-----+----------------+-------------------+---------+\n",
      "|index|               date|Temperature|        Humidity|Light|             CO2|      HumidityRatio|Occupancy|\n",
      "+-----+-------------------+-----------+----------------+-----+----------------+-------------------+---------+\n",
      "|    1|2015-02-04 17:51:00|      23.18|          27.272|426.0|          721.25|0.00479298817650529|        1|\n",
      "|    2|2015-02-04 17:51:59|      23.15|         27.2675|429.5|           714.0|0.00478344094931065|        1|\n",
      "|    3|2015-02-04 17:53:00|      23.15|          27.245|426.0|           713.5|0.00477946352442199|        1|\n",
      "|    4|2015-02-04 17:54:00|      23.15|            27.2|426.0|          708.25|0.00477150882608175|        1|\n",
      "|    5|2015-02-04 17:55:00|       23.1|            27.2|426.0|           704.5|0.00475699293331518|        1|\n",
      "|    6|2015-02-04 17:55:59|       23.1|            27.2|419.0|           701.0|0.00475699293331518|        1|\n",
      "|    7|2015-02-04 17:57:00|       23.1|            27.2|419.0|701.666666666667|0.00475699293331518|        1|\n",
      "|    8|2015-02-04 17:57:59|       23.1|            27.2|419.0|           699.0|0.00475699293331518|        1|\n",
      "|    9|2015-02-04 17:58:59|       23.1|            27.2|419.0|689.333333333333|0.00475699293331518|        1|\n",
      "|   10|2015-02-04 18:00:00|     23.075|          27.175|419.0|           688.0|0.00474535071966655|        1|\n",
      "|   11|2015-02-04 18:01:00|     23.075|           27.15|419.0|          690.25|0.00474095189694268|        1|\n",
      "|   12|2015-02-04 18:02:00|       23.1|            27.1|419.0|           691.0|0.00473937073052061|        1|\n",
      "|   13|2015-02-04 18:03:00|       23.1|27.1666666666667|419.0|           683.5|0.00475111875560951|        1|\n",
      "|   14|2015-02-04 18:04:00|      23.05|           27.15|419.0|           687.5| 0.0047337317970825|        1|\n",
      "|   15|2015-02-04 18:04:59|       23.0|          27.125|419.0|           686.0|0.00471494214590473|        1|\n",
      "|   16|2015-02-04 18:06:00|       23.0|          27.125|418.5|           680.5|0.00471494214590473|        1|\n",
      "|   17|2015-02-04 18:07:00|       23.0|            27.2|  0.0|           681.5|0.00472807794966877|        0|\n",
      "|   18|2015-02-04 18:08:00|     22.945|           27.29|  0.0|           685.0|0.00472795137178073|        0|\n",
      "|   19|2015-02-04 18:08:59|     22.945|           27.39|  0.0|           685.0| 0.0047454083970941|        0|\n",
      "|   20|2015-02-04 18:10:00|      22.89|           27.39|  0.0|           689.0|0.00472950615591001|        0|\n",
      "+-----+-------------------+-----------+----------------+-----+----------------+-------------------+---------+\n",
      "only showing top 20 rows\n",
      "\n"
     ]
    }
   ],
   "source": [
    "spark.sql('select * from occupancy_sensor_data').show()"
   ]
  },
  {
   "cell_type": "code",
   "execution_count": 45,
   "id": "6d3990ab-0eaf-41b4-a9cf-d9483e997c5d",
   "metadata": {},
   "outputs": [
    {
     "name": "stdout",
     "output_type": "stream",
     "text": [
      "+-----------+----------------+---------+\n",
      "|temperature|        humidity|occupancy|\n",
      "+-----------+----------------+---------+\n",
      "|      23.18|          27.272|        1|\n",
      "|      23.15|         27.2675|        1|\n",
      "|      23.15|          27.245|        1|\n",
      "|      23.15|            27.2|        1|\n",
      "|       23.1|            27.2|        1|\n",
      "|       23.1|            27.2|        1|\n",
      "|       23.1|            27.2|        1|\n",
      "|       23.1|            27.2|        1|\n",
      "|       23.1|            27.2|        1|\n",
      "|     23.075|          27.175|        1|\n",
      "|     23.075|           27.15|        1|\n",
      "|       23.1|            27.1|        1|\n",
      "|       23.1|27.1666666666667|        1|\n",
      "|      23.05|           27.15|        1|\n",
      "|       23.0|          27.125|        1|\n",
      "|       23.0|          27.125|        1|\n",
      "|      21.84|         25.0225|        1|\n",
      "|      21.89|           25.15|        1|\n",
      "|      21.89|            25.2|        1|\n",
      "|      21.89|            25.2|        1|\n",
      "+-----------+----------------+---------+\n",
      "only showing top 20 rows\n",
      "\n"
     ]
    }
   ],
   "source": [
    "spark.sql('select temperature, humidity, occupancy from occupancy_sensor_data where occupancy == 1 and temperature>20 and humidity>25').show()"
   ]
  },
  {
   "cell_type": "code",
   "execution_count": 44,
   "id": "c33ad5a5-f4fb-4db2-9271-ba7d05d6f2d4",
   "metadata": {},
   "outputs": [
    {
     "name": "stdout",
     "output_type": "stream",
     "text": [
      "+-----------+----------------+---------+\n",
      "|temperature|        humidity|occupancy|\n",
      "+-----------+----------------+---------+\n",
      "|      23.18|          27.272|        1|\n",
      "|      23.15|         27.2675|        1|\n",
      "|      23.15|          27.245|        1|\n",
      "|      23.15|            27.2|        1|\n",
      "|       23.1|            27.2|        1|\n",
      "|       23.1|            27.2|        1|\n",
      "|       23.1|            27.2|        1|\n",
      "|       23.1|            27.2|        1|\n",
      "|       23.1|            27.2|        1|\n",
      "|     23.075|          27.175|        1|\n",
      "|     23.075|           27.15|        1|\n",
      "|       23.1|            27.1|        1|\n",
      "|       23.1|27.1666666666667|        1|\n",
      "|      23.05|           27.15|        1|\n",
      "|       23.0|          27.125|        1|\n",
      "|       23.0|          27.125|        1|\n",
      "|      21.84|         25.0225|        1|\n",
      "|      21.89|           25.15|        1|\n",
      "|      21.89|            25.2|        1|\n",
      "|      21.89|            25.2|        1|\n",
      "+-----------+----------------+---------+\n",
      "only showing top 20 rows\n",
      "\n"
     ]
    }
   ],
   "source": [
    "df_spark.filter((df_spark['Temperature']>20) & (df_spark['humidity']>25) & (df_spark['occupancy']==1)).select(['temperature','humidity','occupancy']).show()"
   ]
  },
  {
   "cell_type": "code",
   "execution_count": 46,
   "id": "0c2f3e5e-5677-4bfc-9a68-1b0bea0503f8",
   "metadata": {},
   "outputs": [
    {
     "name": "stdout",
     "output_type": "stream",
     "text": [
      "+----------------+-------------+\n",
      "|max(temperature)|max(humidity)|\n",
      "+----------------+-------------+\n",
      "|           23.18|      39.1175|\n",
      "+----------------+-------------+\n",
      "\n"
     ]
    }
   ],
   "source": [
    "df_spark.agg({'temperature':'max','humidity':'max'}).show()"
   ]
  },
  {
   "cell_type": "code",
   "execution_count": 58,
   "id": "508aca40-2d6b-4c19-b1b9-fd01760c2350",
   "metadata": {},
   "outputs": [
    {
     "name": "stdout",
     "output_type": "stream",
     "text": [
      "+-------------------+-------------+\n",
      "|stddev(temperature)|max(humidity)|\n",
      "+-------------------+-------------+\n",
      "| 1.0169164411058336|      39.1175|\n",
      "+-------------------+-------------+\n",
      "\n"
     ]
    }
   ],
   "source": [
    "df_spark.agg({'temperature':'stddev','humidity':'min','humidity':'max'}).show()"
   ]
  },
  {
   "cell_type": "code",
   "execution_count": 64,
   "id": "2ee8f42c-10b4-4921-9e78-89ef3d3f7ee0",
   "metadata": {},
   "outputs": [
    {
     "name": "stdout",
     "output_type": "stream",
     "text": [
      "+--------+-----------------+----------------+-------------+------------------+-------------+\n",
      "|max_temp| avg(temperature)|min(temperature)|max(humidity)|     avg(humidity)|min(humidity)|\n",
      "+--------+-----------------+----------------+-------------+------------------+-------------+\n",
      "|   23.18|20.61908364034621|            19.0|      39.1175|25.731507286422527|       16.745|\n",
      "+--------+-----------------+----------------+-------------+------------------+-------------+\n",
      "\n"
     ]
    }
   ],
   "source": [
    "spark.sql('select max(temperature) as max_temp,avg(temperature),min(temperature),max(humidity),avg(humidity),min(humidity) from occupancy_sensor_data' ).show()"
   ]
  },
  {
   "cell_type": "code",
   "execution_count": 66,
   "id": "2c4c5213-970e-4116-96c0-9dab54eb5423",
   "metadata": {},
   "outputs": [
    {
     "name": "stdout",
     "output_type": "stream",
     "text": [
      "+----------------+\n",
      "|max(temperature)|\n",
      "+----------------+\n",
      "|            22.7|\n",
      "|           20.79|\n",
      "|            22.1|\n",
      "|19.6333333333333|\n",
      "|         21.4175|\n",
      "|          20.125|\n",
      "|          20.445|\n",
      "|            21.5|\n",
      "|            21.7|\n",
      "|            22.6|\n",
      "|           21.65|\n",
      "|         21.7675|\n",
      "|            22.6|\n",
      "|            19.7|\n",
      "|            19.5|\n",
      "|          20.675|\n",
      "|           21.39|\n",
      "|           22.23|\n",
      "|            21.2|\n",
      "|         22.9725|\n",
      "+----------------+\n",
      "only showing top 20 rows\n",
      "\n"
     ]
    }
   ],
   "source": [
    "spark.sql('select max(temperature) from occupancy_sensor_data group by humidity').show()"
   ]
  },
  {
   "cell_type": "code",
   "execution_count": null,
   "id": "3a62c074-f02f-4ed6-9549-f838e9e6ce8a",
   "metadata": {},
   "outputs": [],
   "source": []
  },
  {
   "cell_type": "code",
   "execution_count": null,
   "id": "85f0f812-ee2b-41db-a95a-81b47f2ce49e",
   "metadata": {},
   "outputs": [],
   "source": []
  },
  {
   "cell_type": "code",
   "execution_count": null,
   "id": "02183d7b-33b9-4d88-bf36-64dfbb696bbf",
   "metadata": {},
   "outputs": [],
   "source": []
  },
  {
   "cell_type": "markdown",
   "id": "6f4f1598-ef5d-44b1-95c4-926508ca160c",
   "metadata": {},
   "source": [
    "# Question 2 (DCHB_Village_Amenities_Bangalore.csv)"
   ]
  },
  {
   "cell_type": "code",
   "execution_count": 10,
   "id": "108145da-758a-488a-9b03-8a9ec198c6bc",
   "metadata": {},
   "outputs": [],
   "source": [
    "df_spark = spark.read.csv('DCHB_Village_Amenities_Bangalore.csv',header=True,inferSchema=True)"
   ]
  },
  {
   "cell_type": "code",
   "execution_count": 11,
   "id": "eb327b52-2d93-411a-9f4a-52e31aa7ca9a",
   "metadata": {},
   "outputs": [
    {
     "name": "stdout",
     "output_type": "stream",
     "text": [
      "(588, 396)\n"
     ]
    }
   ],
   "source": [
    "print((df_spark.count(),len(df_spark.columns)))"
   ]
  },
  {
   "cell_type": "markdown",
   "id": "d033ce8e-1d3a-4b07-bebe-88126ebe1a8b",
   "metadata": {},
   "source": [
    "# 2.1 Find out list of villages which are having a town within 10 km"
   ]
  },
  {
   "cell_type": "code",
   "execution_count": 12,
   "id": "4ecd9d39-126a-4ae5-818b-0902f83640c6",
   "metadata": {},
   "outputs": [],
   "source": [
    "import pandas as pd"
   ]
  },
  {
   "cell_type": "code",
   "execution_count": 13,
   "id": "2f7e7630-7d31-4fee-9568-43f8b00bd7e3",
   "metadata": {
    "tags": []
   },
   "outputs": [
    {
     "data": {
      "text/plain": [
       "['State Code',\n",
       " 'State Name',\n",
       " 'District Code',\n",
       " 'District Name',\n",
       " 'Sub District Code',\n",
       " 'Sub District Name',\n",
       " 'Village Code',\n",
       " 'Village Name',\n",
       " 'CD Block Code',\n",
       " 'CD Block Name',\n",
       " 'Gram Panchayat Code',\n",
       " 'Gram Panchayat Name',\n",
       " 'Reference Year',\n",
       " 'Sub District Head Quarter (Name)',\n",
       " 'Sub District Head Quarter (Distance in km)',\n",
       " 'District Head Quarter (Name)',\n",
       " 'District Head Quarter (Distance in km)',\n",
       " 'Nearest Statutory Town (Name)',\n",
       " 'Nearest Statutory Town (Distance in km)',\n",
       " 'Within the State/UT (Name)',\n",
       " 'Within the State/UT (Distance in km)',\n",
       " 'Outside the State/UT, if nearest one is not within the State/UT (Name)',\n",
       " 'Outside the State/UT distance, if nearest one is not within the State/UT (Distance in km)',\n",
       " 'Total Geographical Area (in Hectares)',\n",
       " 'Total  Households ',\n",
       " 'Total Population of Village',\n",
       " 'Total Male Population of Village',\n",
       " 'Total Female Population of Village',\n",
       " 'Total Scheduled Castes Population of Village',\n",
       " 'Total Scheduled Castes Male Population of Village',\n",
       " 'Total Scheduled Castes Female Population of Village',\n",
       " 'Total Scheduled Tribes Population of Village',\n",
       " 'Total Scheduled Tribes Male Population of Village',\n",
       " 'Total Scheduled Tribes Female Population of Village',\n",
       " 'Govt Pre-Primary School (Nursery/LKG/UKG) (Status A(1)/NA(2))',\n",
       " 'Govt Pre-Primary School (Nursery/LKG/UKG) (Numbers)',\n",
       " 'Private Pre-Primary School (Nursery/LKG/UKG) (Status A(1)/NA(2))',\n",
       " 'Private Pre-Primary School (Nursery/LKG/UKG) (Numbers)',\n",
       " 'Nearest Facility Status (Pre-Primary School (Nursery/LKG/UKG) (Govt(1)/Private(2)) ',\n",
       " 'Nearest Village/Town Name (Pre-Primary School (Nursery/LKG/UKG)',\n",
       " '(If Pre-Primary School (Nursery/LKG/UKG not available within the village, the distance range code of nearest place where facility is available is given viz; a for < 5 Kms, b for 5-10 Kms and c for 10+ kms ). ',\n",
       " 'Govt Primary School (Status A(1)/NA(2))',\n",
       " 'Govt Primary School (Numbers)',\n",
       " 'Private Primary School (Status A(1)/NA(2))',\n",
       " 'Private Primary School (Numbers)',\n",
       " 'Nearest Facility Status (Primary School) (Govt(1)/Private(2)) ',\n",
       " 'Nearest Village/Town Name (Primary School)',\n",
       " '(If Primary School not available within the village, the distance range code of nearest place where facility is available is given viz; a for < 5 Kms, b for 5-10 Kms and c for 10+ kms ). ',\n",
       " 'Govt Middle School (Status A(1)/NA(2))',\n",
       " 'Govt Middle School (Numbers)',\n",
       " 'Private Middle School (Status A(1)/NA(2))',\n",
       " 'Private Middle School (Numbers)',\n",
       " 'Nearest Facility Status (Middle School) (Govt(1)/Private(2)) ',\n",
       " 'Nearest Village/Town Name (Middle School)',\n",
       " '(If Middle School not available within the village, the distance range code of nearest place where facility is available is given viz; a for < 5 Kms, b for 5-10 Kms and c for 10+ kms ). ',\n",
       " 'Govt Secondary School (Status A(1)/NA(2))',\n",
       " 'Govt Secondary School (Numbers)',\n",
       " 'Private Secondary School (Status A(1)/NA(2))',\n",
       " 'Private Secondary School (Numbers)',\n",
       " 'Nearest Facility Status (Secondary School)(Govt(1)/Private(2)) ',\n",
       " 'Nearest Village/Town Name (Secondary School)',\n",
       " '(If Secondary School not available within the village, the distance range code of nearest place where facility is available is given viz; a for < 5 Kms, b for 5-10 Kms and c for 10+ kms ). ',\n",
       " 'Govt Senior Secondary School (Status A(1)/NA(2))',\n",
       " 'Govt Senior Secondary School (Numbers)',\n",
       " 'Private Senior Secondary School (Status A(1)/NA(2))',\n",
       " 'Private Senior Secondary School (Numbers)',\n",
       " 'Nearest Facility Status (Senior Secondary School) (Govt(1)/Private(2)) ',\n",
       " 'Nearest Village/Town Name (Senior Secondary School)',\n",
       " '(If Senior Secondary School not available within the village, the distance range code of nearest place where facility is available is given viz; a for < 5 Kms, b for 5-10 Kms and c for 10+ kms ). ',\n",
       " 'Govt Arts and Science Degree College (Status A(1)/NA(2))',\n",
       " 'Govt Arts and Science Degree College (Numbers)',\n",
       " 'Private Arts and Science Degree College (Status A(1)/NA(2))',\n",
       " 'Private Arts and Science Degree College (Numbers)',\n",
       " 'Nearest Facility Status (Arts and Science Degree College) (Govt(1)/Private(2)) ',\n",
       " 'Nearest Village/Town Name (Arts and Science Degree College)',\n",
       " '(If Arts and Science Degree College not available within the village, the distance range code of nearest place where facility is available is given viz; a for < 5 Kms, b for 5-10 Kms and c for 10+ kms ). ',\n",
       " 'Govt Engineering College (Status A(1)/NA(2))',\n",
       " 'Govt Engineering College (Numbers)',\n",
       " 'Private Engineering College (Status A(1)/NA(2))',\n",
       " 'Private Engineering College (Numbers)',\n",
       " 'Nearest Facility Status (Engineering College) (Govt(1)/Private(2)) ',\n",
       " 'Nearest Village/Town Name (Engineering College)',\n",
       " '(If Engineering College not available within the village, the distance range code of nearest place where facility is available is given viz; a for < 5 Kms, b for 5-10 Kms and c for 10+ kms ). ',\n",
       " 'Govt Medicine College (Status A(1)/NA(2))',\n",
       " 'Govt Medicine College (Numbers)',\n",
       " 'Private Medicine College (Status A(1)/NA(2))',\n",
       " 'Private Medicine College (Numbers)',\n",
       " 'Nearest Facility Status (Medicine College) (Govt(1)/Private(2)) ',\n",
       " 'Nearest Village/Town Name (Medicine College)',\n",
       " '(If Medicine College not available within the village, the distance range code of nearest place where facility is available is given viz; a for < 5 Kms, b for 5-10 Kms and c for 10+ kms ). ',\n",
       " 'Govt Management Institute (Status A(1)/NA(2))',\n",
       " 'Govt Management Institute (Numbers)',\n",
       " 'Private Management Institute (Status A(1)/NA(2))',\n",
       " 'Private Management Institute (Numbers)',\n",
       " 'Nearest Facility Status (Management Institute) (Govt(1)/Private(2)) ',\n",
       " 'Nearest Village/Town Name (Management Institute)',\n",
       " '(If Management Institute not available within the village, the distance range code of nearest place where facility is available is given viz; a for < 5 Kms, b for 5-10 Kms and c for 10+ kms ). ',\n",
       " 'Govt Polytechnic (Status A(1)/NA(2))',\n",
       " 'Govt Polytechnic (Numbers)',\n",
       " 'Private Polytechnic (Status A(1)/NA(2))',\n",
       " 'Private Polytechnic (Numbers)',\n",
       " 'Nearest Facility Status (Polytechnic) (Govt(1)/Private(2)) ',\n",
       " 'Nearest Village/Town Name (Polytechnic)',\n",
       " '(If Polytechnic not available within the village, the distance range code of nearest place where facility is available is given viz; a for < 5 Kms, b for 5-10 Kms and c for 10+ kms ). ',\n",
       " 'Govt Vocational Training School/ITI (Status A(1)/NA(2))',\n",
       " 'Govt Vocational Training School/ITI (Numbers)',\n",
       " 'Private Vocational Training School/ITI (Status A(1)/NA(2))',\n",
       " 'Private Vocational Training School/ITI (Numbers)',\n",
       " 'Nearest Facility Status (Vocational Training School/ITI) (Govt(1)/Private(2)) ',\n",
       " 'Nearest Village/Town Name (Vocational Training School/ITI)',\n",
       " '(If Vocational Training School/ITI not available within the village, the distance range code of nearest place where facility is available is given viz; a for < 5 Kms, b for 5-10 Kms and c for 10+ kms ). ',\n",
       " 'Government Non Formal Training Centre (Status A(1)/NA(2))',\n",
       " 'Government Non Formal Training Centre (Numbers)',\n",
       " 'Private Non Formal Training Centre (Status A(1)/NA(2))',\n",
       " 'Private Non Formal Training Centre (Numbers)',\n",
       " 'Nearest Facility Status (Private Non Formal Training Centre) (Govt(1)/Private(2)) ',\n",
       " 'Nearest Village/Town Name (Private Non Formal Training Centre)',\n",
       " '(If Private Non Formal Training Centre not available within the village, the distance range code of nearest place where facility is available is given viz; a for < 5 Kms, b for 5-10 Kms and c for 10+ kms ). ',\n",
       " 'Government School For Disabled (Status A(1)/NA(2))',\n",
       " 'Government School For Disabled (Numbers)',\n",
       " 'Private School For Disabled ( Status A(1)/NA(2))',\n",
       " 'Private School For Disabled (Numbers)',\n",
       " 'Nearest Facility Status (Private School For Disabled) (Govt(1)/Private(2)) ',\n",
       " 'Nearest Village/Town Name (Private School For Disabled)',\n",
       " '(If Private School For Disabled not available within the village, the distance range code of nearest place where facility is available is given viz; a for < 5 Kms, b for 5-10 Kms and c for 10+ kms ). ',\n",
       " 'Government Others (Status A(1)/NA(2))',\n",
       " 'Government Others (Numbers)',\n",
       " 'Private Others (Status A(1)/NA(2))',\n",
       " 'Private Others (Numbers)',\n",
       " 'Nearest Facility Status (Others) (Govt(1)/Private(2)) ',\n",
       " 'Nearest Village/Town Name (Others Facility)',\n",
       " '(If Others Facility not available within the village, the distance range code of nearest place where facility is available is given viz; a for < 5 Kms, b for 5-10 Kms and c for 10+ kms ). ',\n",
       " 'Community Health Centre (Numbers)',\n",
       " 'Community Health Centre Doctors Total Strength (Numbers)',\n",
       " 'Community Health Centre Doctors In Position (Numbers)',\n",
       " 'Community Health Centre Para Medical Staff Total Strength (Numbers)',\n",
       " 'Community Health Centre Para Medical Staff In Position (Numbers)',\n",
       " '(If Community Health Centre not available within the village, the distance range code of nearest place where facility is available is given viz; a for < 5 Kms, b for 5-10 Kms and c for 10+ kms ). ',\n",
       " 'Primary Health Centre (Numbers)',\n",
       " 'Primary Health Centre Doctors Total Strength (Numbers)',\n",
       " 'Primary Health Centre Doctors In Position (Numbers)',\n",
       " 'Primary Health Centre Para Medical Staff Total Strength (Numbers)',\n",
       " 'Primary Health Centre Para Medical Staff In Position (Numbers)',\n",
       " '(If Primary Health Centre not available within the village, the distance range code of nearest place where facility is available is given viz; a for < 5 Kms, b for 5-10 Kms and c for 10+ kms ). ',\n",
       " 'Primary Health Sub Centre (Numbers)',\n",
       " 'Primary Health Sub Centre Doctors Total Strength (Numbers)',\n",
       " 'Primary Health Sub Centre Doctors In Position (Numbers)',\n",
       " 'Primary Health Sub Centre Para Medical Staff Total Strength (Numbers)',\n",
       " 'Primary Health Sub Centre Para Medical Staff In Position (Numbers)',\n",
       " '(If Primary Health Sub Centre not available within the village, the distance range code of nearest place where facility is available is given viz; a for < 5 Kms, b for 5-10 Kms and c for 10+ kms ). ',\n",
       " 'Maternity And Child Welfare Centre (Numbers)',\n",
       " 'Maternity And Child Welfare Centre Doctors Total Strength (Numbers)',\n",
       " 'Maternity And Child Welfare Centre Doctors In Position (Numbers)',\n",
       " 'Maternity And Child Welfare Centre Para Medical Staff Total Strength (Numbers)',\n",
       " 'Maternity And Child Welfare Centre Para Medical Staff In Position (Numbers)',\n",
       " '(If Maternity And Child Welfare Centre not available within the village, the distance range code of nearest place where facility is available is given viz; a for < 5 Kms, b for 5-10 Kms and c for 10+ kms ). ',\n",
       " 'TB Clinic (Numbers)',\n",
       " 'TB Clinic Doctors Total Strength (Numbers)',\n",
       " 'TB Clinic Doctors In Position (Numbers)',\n",
       " 'TB Clinic Para Medical Para Medical Staff Total Strength (Numbers)',\n",
       " 'TB Clinic Para Medical Para Medical Staff In Position (Numbers)',\n",
       " '(If TB Clinic not available within the village, the distance range code of nearest place where facility is available is given viz; a for < 5 Kms, b for 5-10 Kms and c for 10+ kms ). ',\n",
       " 'Hospital Allopathic (Numbers)',\n",
       " 'Hospital Allopathic Doctors Total Strength (Numbers)',\n",
       " 'Hospital Allopathic Doctors In Position (Numbers)',\n",
       " 'Hospital Allopathic Para Medical Staff Total Strength (Numbers)',\n",
       " 'Hospital Allopathic Para Medical Staff In Position (Numbers)',\n",
       " '(If Hospital Allopathic not available within the village, the distance range code of nearest place where facility is available is given viz; a for < 5 Kms, b for 5-10 Kms and c for 10+ kms ). ',\n",
       " 'Hospital Alternative Medicine (Numbers)',\n",
       " 'Hospital Alternative Medicine Doctors Total Strength (Numbers)',\n",
       " 'Hospital Alternative Medicine Doctors In Position (Numbers)',\n",
       " 'Hospital Alternative Medicine Para Medical Staff Total Strength (Numbers)',\n",
       " 'Hospital Alternative Medicine Para Medical Staff In Position (Numbers)',\n",
       " '(If Hospital Alternative Medicine not available within the village, the distance range code of nearest place where facility is available is given viz; a for < 5 Kms, b for 5-10 Kms and c for 10+ kms ). ',\n",
       " 'Dispensary (Numbers)',\n",
       " 'Dispensary Doctors Total Strength (Numbers)',\n",
       " 'Dispensary Doctors In Position (Numbers)',\n",
       " 'Dispensary Para Medical Staff Total Strength (Numbers)',\n",
       " 'Dispensary Para Medical Staff In Position (Numbers)',\n",
       " '(If Dispensary not available within the village, the distance range code of nearest place where facility is available is given viz; a for < 5 Kms, b for 5-10 Kms and c for 10+ kms ). ',\n",
       " 'Veterinary Hospital (Numbers)',\n",
       " 'Veterinary Hospital Doctors Total Strength (Numbers)',\n",
       " 'Veterinary Hospital Doctors In Position (Numbers)',\n",
       " 'Veterinary Hospital Para Medical Staff Total Strength (Numbers)',\n",
       " 'Veterinary Hospital Para Medical Staff In Position (Numbers)',\n",
       " '(If Veterinary Hospital not available within the village, the distance range code of nearest place where facility is available is given viz; a for < 5 Kms, b for 5-10 Kms and c for 10+ kms ). ',\n",
       " 'Mobile Health Clinic (Numbers)',\n",
       " 'Mobile Health Clinic Doctors Total Strength (Numbers)',\n",
       " 'Mobile Health Clinic Doctors In Position (Numbers)',\n",
       " 'Mobile Health Clinic Para Medical Staff Total Strength (Numbers)',\n",
       " 'Mobile Health Clinic Para Medical Staff In Position(Numbers)',\n",
       " '(If Mobile Health Clinic not available within the village, the distance range code of nearest place where facility is available is given viz; a for < 5 Kms, b for 5-10 Kms and c for 10+ kms ). ',\n",
       " 'Family Welfare Centre (Numbers)',\n",
       " 'Family Welfare Centre Doctors Total Strength (Numbers)',\n",
       " 'Family Welfare Centre Doctors In Position (Numbers)',\n",
       " 'Family Welfare Centre Para Medical Staff Total Strength (Numbers)',\n",
       " 'Family Welfare Centre Para Medical Staff In Position (Numbers)',\n",
       " '(If Family Welfare Centre not available within the village, the distance range code of nearest place where facility is available is given viz; a for < 5 Kms, b for 5-10 Kms and c for 10+ kms ). ',\n",
       " 'Non Government Medical facilities Out Patient (Numbers)',\n",
       " 'Non Government Medical facilities In And Out Patient (Numbers)',\n",
       " 'Non Government Medical facilities Charitable (Numbers)',\n",
       " 'Non Government Medical facilities Medical Practitioner with MBBS Degree (Numbers) ',\n",
       " 'Non Government Medical facilities Medical Practitioner with other Degree (Numbers) ',\n",
       " 'Non Government Medical facilities Medical Practitioner with no Degree (Numbers) ',\n",
       " 'Non Government Medical facilities Traditional Practitioner and Faith Healer (Numbers) ',\n",
       " 'Non Government Medical facilities Medicine Shop (Numbers) ',\n",
       " 'Non Government Medical facilities Others (Numbers)',\n",
       " 'Tap Water-Treated (Status A(1)/NA(2))',\n",
       " 'Tap Water-Treated Functioning All round the year (Status A(1)/NA(2))',\n",
       " 'Tap Water-Treated Functioning in Summer months (April-September) (Status A(1)/NA(2))',\n",
       " 'Tap Water Untreated (Status A(1)/NA(2))',\n",
       " 'Tap Water Untreated Functioning All round the year (Status A(1)/NA(2))',\n",
       " 'Tap Water Untreated Functioning in Summer months (April-September) (Status A(1)/NA(2))',\n",
       " 'Covered Well (Status A(1)/NA(2))',\n",
       " 'Covered Well Functioning All round the year (Status A(1)/NA(2))',\n",
       " 'Covered Well Functioning in Summer months (April-September) (Status A(1)/NA(2))',\n",
       " 'Uncovered Well (Status A(1)/NA(2))',\n",
       " 'Uncovered Well Functioning All round the year (Status A(1)/NA(2))',\n",
       " 'Uncovered Well Functioning in Summer months (April-September) (Status A(1)/NA(2))',\n",
       " 'Hand Pump (Status A(1)/NA(2))',\n",
       " 'Hand Pump Functioning All round the year (Status A(1)/NA(2))',\n",
       " 'Hand Pump Functioning in Summer months (April-September) (Status A(1)/NA(2))',\n",
       " 'Tube Wells/Borehole (Status A(1)/NA(2))',\n",
       " 'Tube Wells/Borehole Functioning All round the year (Status A(1)/NA(2))',\n",
       " 'Tube Wells/Borehole Functioning in Summer months (April-September) (Status A(1)/NA(2))',\n",
       " 'Spring (Status A(1)/NA(2))',\n",
       " 'Spring Functioning All round the year (Status A(1)/NA(2))',\n",
       " 'Spring Functioning in Summer months (April-September) (Status A(1)/NA(2))',\n",
       " 'River/Canal (Status A(1)/NA(2))',\n",
       " 'River/Canal Functioning All round the year (Status A(1)/NA(2))',\n",
       " 'River/Canal Functioning in Summer months (April-September) (Status A(1)/NA(2))',\n",
       " 'Tank/Pond/Lake (Status A(1)/NA(2))',\n",
       " 'Tank/Pond/Lake Functioning All round the year (Status A(1)/NA(2))',\n",
       " 'Tank/Pond/Lake Functioning in Summer months (April-September) (Status A(1)/NA(2))',\n",
       " 'Others (Status A(1)/NA(2))',\n",
       " 'Others Functioning All round the year (Status A(1)/NA(2))',\n",
       " 'Others Functioning in Summer months (April-September) (Status A(1)/NA(2))',\n",
       " 'Closed Drainage (Status A(1)/NA(2))',\n",
       " ' Open Drainage (Status A(1)/NA(2))',\n",
       " 'No Drainage (Status A(1)/NA(2))',\n",
       " 'Open Pucca Drainage Covered with Tiles Slabs (Status A(1)/NA(2))',\n",
       " 'Open Pucca Drainage Uncovered (Status A(1)/NA(2))',\n",
       " 'Open Kuccha Drainage (Status A(1)/NA(2))',\n",
       " 'Whether Drain water is discharged directly into water bodies or to sewar plant (For Water Bodies-1/Sewar Plants-2)',\n",
       " ' Is the Area Covered under Total Sanitation Campaign (TSC)? (Status A(1)/NA(2))',\n",
       " 'Community Toilet Complex (including Bath) for General Public (Status A(1)/NA(2))',\n",
       " 'Community Toilet Complex (excluding Bath) for General Public (Status A(1)/NA(2))',\n",
       " 'Rural Production Centres or Sanitary hardware outlet availability near the village (Status A(1)/NA(2))',\n",
       " 'Rural Production mart or Sanitary hardware outlet availability near the village (Status A(1)/NA(2))',\n",
       " 'Community waste disposal system after house to house collection (Status A(1)/NA(2))',\n",
       " 'Community Bio-gas or recycle of waste for production use (Status A(1)/NA(2))',\n",
       " 'No System (Garbage on road/street) (Status A(1)/NA(2))',\n",
       " 'Post Office (Status A(1)/NA(2))',\n",
       " '(If Post Office not available within the village, the distance range code of nearest place where facility is available is given viz; a for < 5 Kms, b for 5-10 Kms and c for 10+ kms ). ',\n",
       " 'Sub Post Office (Status A(1)/NA(2))',\n",
       " '(If Sub Post Office not available within the village, the distance range code of nearest place where facility is available is given viz; a for < 5 Kms, b for 5-10 Kms and c for 10+ kms ). ',\n",
       " 'Post And Telegraph Office (Status A(1)/NA(2))',\n",
       " '(If Post And Telegraph Office not available within the village, the distance range code of nearest place where facility is available is given viz; a for < 5 Kms, b for 5-10 Kms and c for 10+ kms ). ',\n",
       " 'Village Pin Code (Status A(1)/NA(2))',\n",
       " '(If Village Pin Code not available within the village, the distance range code of nearest place where facility is available is given viz; a for < 5 Kms, b for 5-10 Kms and c for 10+ kms ). ',\n",
       " 'PIN Code',\n",
       " 'Telephone (landlines) (Status A(1)/NA(2))',\n",
       " '(If Telephone (landlines) not available within the village, the distance range code of nearest place where facility is available is given viz; a for < 5 Kms, b for 5-10 Kms and c for 10+ kms ). ',\n",
       " 'Public Call Office /Mobile (PCO) (Status A(1)/NA(2))',\n",
       " '(If Public Call Office /Mobile (PCO) not available within the village, the distance range code of nearest place where facility is available is given viz; a for < 5 Kms, b for 5-10 Kms and c for 10+ kms ). ',\n",
       " 'Mobile Phone Coverage (Status A(1)/NA(2))',\n",
       " '(If Mobile Phone Coverage not available within the village, the distance range code of nearest place where facility is available is given viz; a for < 5 Kms, b for 5-10 Kms and c for 10+ kms ). ',\n",
       " 'Internet Cafes / Common Service Centre (CSC) (Status A(1)/NA(2))',\n",
       " '(If Internet Cafes / Common Service Centre (CSC) not available within the village, the distance range code of nearest place where facility is available is given viz; a for < 5 Kms, b for 5-10 Kms and c for 10+ kms ). ',\n",
       " 'Private Courier Facility (Status A(1)/NA(2))',\n",
       " '(If Private Courier Facility not available within the village, the distance range code of nearest place where facility is available is given viz; a for < 5 Kms, b for 5-10 Kms and c for 10+ kms ). ',\n",
       " 'Public Bus Service (Status A(1)/NA(2))',\n",
       " '(If Public Bus Service not available within the village, the distance range code of nearest place where facility is available is given viz; a for < 5 Kms, b for 5-10 Kms and c for 10+ kms ). ',\n",
       " 'Private Bus Service (Status A(1)/NA(2))',\n",
       " '(If Private Bus Service not available within the village, the distance range code of nearest place where facility is available is given viz; a for < 5 Kms, b for 5-10 Kms and c for 10+ kms ). ',\n",
       " 'Railway Station (Status A(1)/NA(2))',\n",
       " '(If Railway Station not available within the village, the distance range code of nearest place where facility is available is given viz; a for < 5 Kms, b for 5-10 Kms and c for 10+ kms ). ',\n",
       " 'Auto/Modified Autos (Status A(1)/NA(2))',\n",
       " '(If Auto/Modified Autos not available within the village, the distance range code of nearest place where facility is available is given viz; a for < 5 Kms, b for 5-10 Kms and c for 10+ kms ). ',\n",
       " 'Taxi (Status A(1)/NA(2))',\n",
       " '(If Taxi not available within the village, the distance range code of nearest place where facility is available is given viz; a for < 5 Kms, b for 5-10 Kms and c for 10+ kms ). ',\n",
       " 'Vans (Status A(1)/NA(2))',\n",
       " '(If Vans not available within the village, the distance range code of nearest place where facility is available is given viz; a for < 5 Kms, b for 5-10 Kms and c for 10+ kms ). ',\n",
       " 'Tractors (Status A(1)/NA(2))',\n",
       " '(If Tractors not available within the village, the distance range code of nearest place where facility is available is given viz; a for < 5 Kms, b for 5-10 Kms and c for 10+ kms ). ',\n",
       " 'Cycle-pulled Rickshaws  (manual driven) (Status A(1)/NA(2))',\n",
       " '(If Cycle-pulled Rickshaws  (manual driven) not available within the village, the distance range code of nearest place where facility is available is given viz; a for < 5 Kms, b for 5-10 Kms and c for 10+ kms ). ',\n",
       " 'Cycle-pulled Rickshaws (machine driven) (Status A(1)/NA(2))',\n",
       " '(If Cycle-pulled Rickshaws (machine driven) not available within the village, the distance range code of nearest place where facility is available is given viz; a for < 5 Kms, b for 5-10 Kms and c for 10+ kms ). ',\n",
       " 'Carts Driven by Animals (Status A(1)/NA(2))',\n",
       " '(If Carts Driven by Animals not available within the village, the distance range code of nearest place where facility is available is given viz; a for < 5 Kms, b for 5-10 Kms and c for 10+ kms ). ',\n",
       " 'Sea/River/Ferry Service (Status A(1)/NA(2))',\n",
       " '(If Sea/River/Ferry Service not available within the village, the distance range code of nearest place where facility is available is given viz; a for < 5 Kms, b for 5-10 Kms and c for 10+ kms ). ',\n",
       " 'National Highway (Status A(1)/NA(2))',\n",
       " '(If National Highway not available within the village, the distance range code of nearest place where facility is available is given viz; a for < 5 Kms, b for 5-10 Kms and c for 10+ kms ). ',\n",
       " 'State Highway (Status A(1)/NA(2))',\n",
       " '(If State Highway not available within the village, the distance range code of nearest place where facility is available is given viz; a for < 5 Kms, b for 5-10 Kms and c for 10+ kms ). ',\n",
       " 'Major District Road (Status A(1)/NA(2))',\n",
       " '(If Major District Road not available within the village, the distance range code of nearest place where facility is available is given viz; a for < 5 Kms, b for 5-10 Kms and c for 10+ kms ). ',\n",
       " 'Other District Road (Status A(1)/NA(2))',\n",
       " '(If Other District Road not available within the village, the distance range code of nearest place where facility is available is given viz; a for < 5 Kms, b for 5-10 Kms and c for 10+ kms ). ',\n",
       " 'Black Topped (pucca) Road (Status A(1)/NA(2))',\n",
       " '(If Black Topped (pucca) Road not available within the village, the distance range code of nearest place where facility is available is given viz; a for < 5 Kms, b for 5-10 Kms and c for 10+ kms ). ',\n",
       " 'Gravel (kuchha) Roads (Status A(1)/NA(2))',\n",
       " '(If Gravel (kuchha) Roads not available within the village, the distance range code of nearest place where facility is available is given viz; a for < 5 Kms, b for 5-10 Kms and c for 10+ kms ). ',\n",
       " 'Water Bounded Macadam (Status A(1)/NA(2))',\n",
       " '(If Water Bounded Macadam not available within the village, the distance range code of nearest place where facility is available is given viz; a for < 5 Kms, b for 5-10 Kms and c for 10+ kms ). ',\n",
       " 'All Weather Road (Status A(1)/NA(2))',\n",
       " '(If All Weather Road not available within the village, the distance range code of nearest place where facility is available is given viz; a for < 5 Kms, b for 5-10 Kms and c for 10+ kms ). ',\n",
       " 'Navigable Waterways (River/Canal) (Status A(1)/NA(2))',\n",
       " '(If Navigable Waterways (River/Canal) not available within the village, the distance range code of nearest place where facility is available is given viz; a for < 5 Kms, b for 5-10 Kms and c for 10+ kms ). ',\n",
       " 'Footpath (Status A(1)/NA(2))',\n",
       " '(If Footpath not available within the village, the distance range code of nearest place where facility is available is given viz; a for < 5 Kms, b for 5-10 Kms and c for 10+ kms ). ',\n",
       " 'ATM (Status A(1)/NA(2))',\n",
       " 'Nearest Facility Distance (in Km) ',\n",
       " 'Commercial Bank (Status A(1)/NA(2))',\n",
       " '(If Commercial Bank not available within the village, the distance range code of nearest place where facility is available is given viz; a for < 5 Kms, b for 5-10 Kms and c for 10+ kms ). ',\n",
       " 'Cooperative Bank (Status A(1)/NA(2))',\n",
       " '(If Cooperative Bank not available within the village, the distance range code of nearest place where facility is available is given viz; a for < 5 Kms, b for 5-10 Kms and c for 10+ kms ). ',\n",
       " 'Agricultural Credit Societies (Status A(1)/NA(2))',\n",
       " '(If Agricultural Credit Societies not available within the village, the distance range code of nearest place where facility is available is given viz; a for < 5 Kms, b for 5-10 Kms and c for 10+ kms ). ',\n",
       " 'Self - Help Group (SHG) (Status A(1)/NA(2))',\n",
       " '(If Self - Help Group (SHG) not available within the village, the distance range code of nearest place where facility is available is given viz; a for < 5 Kms, b for 5-10 Kms and c for 10+ kms ). ',\n",
       " 'Public Distribution System (PDS) Shop (Status A(1)/NA(2))',\n",
       " '(If Public Distribution System (PDS) Shop not available within the village, the distance range code of nearest place where facility is available is given viz; a for < 5 Kms, b for 5-10 Kms and c for 10+ kms ). ',\n",
       " 'Mandis/Regular Market (Status A(1)/NA(2))',\n",
       " '(If Mandis/Regular Market not available within the village, the distance range code of nearest place where facility is available is given viz; a for < 5 Kms, b for 5-10 Kms and c for 10+ kms ). ',\n",
       " 'Weekly Haat (Status A(1)/NA(2))',\n",
       " '(If Weekly Haat not available within the village, the distance range code of nearest place where facility is available is given viz; a for < 5 Kms, b for 5-10 Kms and c for 10+ kms ). ',\n",
       " 'Agricultural Marketing Society (Status A(1)/NA(2))',\n",
       " '(If Agricultural Marketing Society not available within the village, the distance range code of nearest place where facility is available is given viz; a for < 5 Kms, b for 5-10 Kms and c for 10+ kms ). ',\n",
       " 'Nutritional Centres-ICDS (Status A(1)/NA(2))',\n",
       " '(If Nutritional Centres-ICDS not available within the village, the distance range code of nearest place where facility is available is given viz; a for < 5 Kms, b for 5-10 Kms and c for 10+ kms ). ',\n",
       " 'Nutritional Centres-Anganwadi Centre (Status A(1)/NA(2))',\n",
       " '(If Nutritional Centres-Anganwadi Centre not available within the village, the distance range code of nearest place where facility is available is given viz; a for < 5 Kms, b for 5-10 Kms and c for 10+ kms ). ',\n",
       " 'Nutritional Centres-Others (Status A(1)/NA(2))',\n",
       " '(If Nutritional Centres-Others not available within the village, the distance range code of nearest place where facility is available is given viz; a for < 5 Kms, b for 5-10 Kms and c for 10+ kms ). ',\n",
       " 'ASHA (Status A(1)/NA(2))',\n",
       " '(If ASHA not available within the village, the distance range code of nearest place where facility is available is given viz; a for < 5 Kms, b for 5-10 Kms and c for 10+ kms ). ',\n",
       " 'Community Centre with/without TV (Status A(1)/NA(2))',\n",
       " '(If Community Centre with/without TV not available within the village, the distance range code of nearest place where facility is available is given viz; a for < 5 Kms, b for 5-10 Kms and c for 10+ kms ). ',\n",
       " 'Sports Field (Status A(1)/NA(2))',\n",
       " '(If Sports Field not available within the village, the distance range code of nearest place where facility is available is given viz; a for < 5 Kms, b for 5-10 Kms and c for 10+ kms ). ',\n",
       " 'Sports Club/Recreation Centre (Status A(1)/NA(2))',\n",
       " '(If Sports Club/Recreation Centre not available within the village, the distance range code of nearest place where facility is available is given viz; a for < 5 Kms, b for 5-10 Kms and c for 10+ kms ). ',\n",
       " 'Cinema/Video Hall (Status A(1)/NA(2))',\n",
       " '(If Cinema/Video Hall not available within the village, the distance range code of nearest place where facility is available is given viz; a for < 5 Kms, b for 5-10 Kms and c for 10+ kms ). ',\n",
       " 'Public Library (Status A(1)/NA(2))',\n",
       " '(If Public Library not available within the village, the distance range code of nearest place where facility is available is given viz; a for < 5 Kms, b for 5-10 Kms and c for 10+ kms ). ',\n",
       " 'Public Reading Room (Status A(1)/NA(2))',\n",
       " '(If Public Reading Room not available within the village, the distance range code of nearest place where facility is available is given viz; a for < 5 Kms, b for 5-10 Kms and c for 10+ kms ). ',\n",
       " 'Daily Newspaper Supply (Status A(1)/NA(2))',\n",
       " '(If Daily Newspaper Supply not available within the village, the distance range code of nearest place where facility is available is given viz; a for < 5 Kms, b for 5-10 Kms and c for 10+ kms ). ',\n",
       " 'Assembly Polling Station (Status A(1)/NA(2))',\n",
       " '(If Assembly Polling Station not available within the village, the distance range code of nearest place where facility is available is given viz; a for < 5 Kms, b for 5-10 Kms and c for 10+ kms ). ',\n",
       " 'Birth and Death Registration Office (Status A(1)/NA(2))',\n",
       " '(If Birth and Death Registration Office not available within the village, the distance range code of nearest place where facility is available is given viz; a for < 5 Kms, b for 5-10 Kms and c for 10+ kms ). ',\n",
       " 'Power Supply For Domestic Use (Status A(1)/NA(2))',\n",
       " 'Power Supply For Domestic Use Summer (April-Sept.) per day (in Hours)',\n",
       " 'Power Supply For Domestic Use Winter (Oct.-March) per day (in Hours)',\n",
       " 'Power Supply For Agriculture Use (Status A(1)/NA(2))',\n",
       " 'Power Supply For Agriculture Use Summer (April-Sept.) per day (in Hours)',\n",
       " 'Power Supply For Agriculture Use Winter (Oct.-March)per day (in Hours)',\n",
       " 'Power Supply For Commercial Use (Status A(1)/NA(2))',\n",
       " 'Power Supply For Commercial Use Summer (April-Sept.) per day (in Hours)',\n",
       " 'Power Supply For Commercial Use Winter (Oct.-March) per day (in Hours)',\n",
       " 'Power Supply For All Users (Status A(1)/NA(2))',\n",
       " 'Power Supply For All Users Summer (April-Sept.) per day (in Hours)',\n",
       " 'Power Supply For All Users Winter (Oct.-March) per day (in Hours)',\n",
       " 'Agricultural Commodities (First)',\n",
       " 'Manufacturers Commodities (First)',\n",
       " 'Handicrafts Commodities (First)',\n",
       " 'Agricultural Commodities (Second)',\n",
       " 'Manufacturers Commodities (Second)',\n",
       " 'Handicrafts Commodities (Second)',\n",
       " 'Agricultural Commodities (Third)',\n",
       " 'Manufacturers Commodities (Third)',\n",
       " 'Handicrafts Commodities (Third)',\n",
       " 'Forest Area (in Hectares)',\n",
       " 'Area under Non-Agricultural Uses (in Hectares)',\n",
       " 'Barren & Un-cultivable Land Area (in Hectares)',\n",
       " 'Permanent Pastures and Other Grazing Land Area (in Hectares)',\n",
       " 'Land Under Miscellaneous Tree Crops etc. Area (in Hectares)',\n",
       " 'Culturable Waste Land Area (in Hectares)',\n",
       " 'Fallows Land other than Current Fallows Area (in Hectares)',\n",
       " 'Current Fallows Area (in Hectares)',\n",
       " 'Net Area Sown (in Hectares)',\n",
       " 'Total Unirrigated Land Area (in Hectares)',\n",
       " 'Area Irrigated by Source (in Hectares)',\n",
       " 'Canals Area (in Hectares)',\n",
       " 'Wells/Tube Wells Area (in Hectares)',\n",
       " 'Tanks/Lakes Area (in Hectares)',\n",
       " 'Waterfall Area (in Hectares)',\n",
       " 'Other Source (specify) Area (in Hectares)',\n",
       " 'Nearest Town Name',\n",
       " 'Nearest Town Distance from Village (in Km.)']"
      ]
     },
     "execution_count": 13,
     "metadata": {},
     "output_type": "execute_result"
    }
   ],
   "source": [
    "df_spark.columns"
   ]
  },
  {
   "cell_type": "code",
   "execution_count": 14,
   "id": "ef6c7424-9891-4dc1-8686-664e4a1990a0",
   "metadata": {},
   "outputs": [],
   "source": [
    "#df_spark.columns=[i.replace(' ','_').strip() for i in df_spark.columns]"
   ]
  },
  {
   "cell_type": "code",
   "execution_count": 15,
   "id": "d72feaea-83fb-4b68-954a-5cd5607b5d85",
   "metadata": {
    "tags": []
   },
   "outputs": [],
   "source": [
    "un=df_spark.withColumnRenamed('Nearest Town Distance from Village (in Km.)','NearVillage')"
   ]
  },
  {
   "cell_type": "code",
   "execution_count": 16,
   "id": "a19d155e-850a-4820-a247-1ace494d4acc",
   "metadata": {
    "tags": []
   },
   "outputs": [],
   "source": [
    "un = un.withColumnRenamed(\"Village Name\",\"Village_Name\")"
   ]
  },
  {
   "cell_type": "code",
   "execution_count": 17,
   "id": "462ef14d-562e-4e16-9b89-d838cc62cd3f",
   "metadata": {
    "tags": []
   },
   "outputs": [
    {
     "name": "stdout",
     "output_type": "stream",
     "text": [
      "+-------------------+\n",
      "|       Village_Name|\n",
      "+-------------------+\n",
      "|         Gopalapura|\n",
      "|Shamabhattara Palya|\n",
      "|           Totagere|\n",
      "|    Bommasettihalli|\n",
      "|       Syadamipalya|\n",
      "|        Bethanagere|\n",
      "|           Rampalya|\n",
      "|             Huskur|\n",
      "|    Hosahalli Palya|\n",
      "|        Govindapura|\n",
      "|        Honnasandra|\n",
      "|      Huchana Palya|\n",
      "|         Pillahalli|\n",
      "|            Nagarur|\n",
      "|          Kodipalya|\n",
      "|Seshagiri Rao Palya|\n",
      "|         Mathahalli|\n",
      "|         Narasipura|\n",
      "|      Muniyanapalya|\n",
      "|               Alur|\n",
      "+-------------------+\n",
      "only showing top 20 rows\n",
      "\n"
     ]
    }
   ],
   "source": [
    "un.select([\"Village_Name\"]).where(un[\"NearVillage\"] <= 10).show()"
   ]
  },
  {
   "cell_type": "markdown",
   "id": "7290cf9c-3890-4309-8e6f-16f320ff10c5",
   "metadata": {},
   "source": [
    "# 2.2 Find out the total number of village which are having a town within 10 km"
   ]
  },
  {
   "cell_type": "code",
   "execution_count": 18,
   "id": "a059538d-895a-4a65-ab1b-270b1681fd43",
   "metadata": {},
   "outputs": [],
   "source": [
    "un=un.withColumnRenamed('Primary Health Centre (Numbers)','Primary_Health_Centre_(Numbers)')"
   ]
  },
  {
   "cell_type": "code",
   "execution_count": 19,
   "id": "d9497c07-184b-4bba-ba9b-3b761f444bac",
   "metadata": {},
   "outputs": [],
   "source": [
    "from pyspark.sql.functions import countDistinct"
   ]
  },
  {
   "cell_type": "code",
   "execution_count": 20,
   "id": "2c54762d-012b-446e-b2ec-e7b8fb14507a",
   "metadata": {},
   "outputs": [
    {
     "name": "stdout",
     "output_type": "stream",
     "text": [
      "+--------------------------------------+\n",
      "|count(Primary_Health_Centre_(Numbers))|\n",
      "+--------------------------------------+\n",
      "|                                     3|\n",
      "+--------------------------------------+\n",
      "\n"
     ]
    }
   ],
   "source": [
    "un.agg(countDistinct('Primary_Health_Centre_(Numbers)')).show()"
   ]
  },
  {
   "cell_type": "markdown",
   "id": "6409997c-720e-4763-86e2-fb9826969fd7",
   "metadata": {},
   "source": [
    "# 2.3 Using SQL query, find out the number of villages with cultivate paddy"
   ]
  },
  {
   "cell_type": "code",
   "execution_count": null,
   "id": "4cb2d3f6-4544-47b9-953d-60312e42fbf8",
   "metadata": {},
   "outputs": [],
   "source": []
  }
 ],
 "metadata": {
  "kernelspec": {
   "display_name": "Python 3 (ipykernel)",
   "language": "python",
   "name": "python3"
  },
  "language_info": {
   "codemirror_mode": {
    "name": "ipython",
    "version": 3
   },
   "file_extension": ".py",
   "mimetype": "text/x-python",
   "name": "python",
   "nbconvert_exporter": "python",
   "pygments_lexer": "ipython3",
   "version": "3.9.12"
  }
 },
 "nbformat": 4,
 "nbformat_minor": 5
}
